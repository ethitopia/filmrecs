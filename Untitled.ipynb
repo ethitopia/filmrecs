{
 "cells": [
  {
   "cell_type": "code",
   "execution_count": 4,
   "id": "6cc2b87a",
   "metadata": {},
   "outputs": [],
   "source": [
    "from surprise import Dataset, Reader\n",
    "from surprise.prediction_algorithms.matrix_factorization import SVD\n",
    "from surprise import accuracy \n",
    "import pandas as pd "
   ]
  },
  {
   "cell_type": "code",
   "execution_count": 6,
   "id": "590ab11d",
   "metadata": {},
   "outputs": [],
   "source": [
    "r_df = pd.read_csv('data/ratings.csv')\n",
    "m_df = pd.read_csv('data/movies.csv')\n",
    "t_df = pd.read_csv('data/tags.csv')"
   ]
  },
  {
   "cell_type": "code",
   "execution_count": null,
   "id": "62e7683b",
   "metadata": {},
   "outputs": [],
   "source": []
  }
 ],
 "metadata": {
  "kernelspec": {
   "display_name": "Python 3 (ipykernel)",
   "language": "python",
   "name": "python3"
  },
  "language_info": {
   "codemirror_mode": {
    "name": "ipython",
    "version": 3
   },
   "file_extension": ".py",
   "mimetype": "text/x-python",
   "name": "python",
   "nbconvert_exporter": "python",
   "pygments_lexer": "ipython3",
   "version": "3.11.5"
  }
 },
 "nbformat": 4,
 "nbformat_minor": 5
}
